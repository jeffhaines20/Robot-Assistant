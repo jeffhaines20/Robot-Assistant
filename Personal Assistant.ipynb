{
 "cells": [
  {
   "cell_type": "markdown",
   "id": "a904c5d1-e4bf-4c96-8411-a073cad74f16",
   "metadata": {},
   "source": [
    "# Personal Assistant and Chatbot"
   ]
  },
  {
   "cell_type": "markdown",
   "id": "1cca3ba7-cec7-40d8-9491-87069e5beea0",
   "metadata": {},
   "source": [
    "Here I build a personal Alexa/Siri-type assistance named Charlie (after our Shih Tzu). Charlie responds to verbal commands that include the word \"Charlie\". He can play songs and movies. Charlie is also connected to a chatbot module (chatterbot) and can have basic conversations. "
   ]
  },
  {
   "cell_type": "code",
   "execution_count": 7,
   "id": "0d8d11de-3b7e-4c96-898c-138b612a6a37",
   "metadata": {},
   "outputs": [],
   "source": [
    "import speech_recognition as sr\n",
    "import pyttsx3\n",
    "import pywhatkit\n",
    "import datetime\n",
    "import wikipedia\n",
    "import webbrowser\n",
    "import requests\n",
    "import urllib.request\n",
    "from bs4 import BeautifulSoup\n",
    "import numpy as np\n",
    "import re"
   ]
  },
  {
   "cell_type": "code",
   "execution_count": null,
   "id": "5b2a3185-e933-4119-814f-0e0abe21499d",
   "metadata": {},
   "outputs": [],
   "source": [
    "from chatterbot import ChatBot\n",
    "from chatterbot.trainers import ListTrainer\n",
    "from chatterbot.trainers import ChatterBotCorpusTrainer"
   ]
  },
  {
   "cell_type": "code",
   "execution_count": 9,
   "id": "96cd6280-a7e6-4c8f-a810-8c1c39ace335",
   "metadata": {},
   "outputs": [
    {
     "name": "stderr",
     "output_type": "stream",
     "text": [
      "[nltk_data] Downloading package averaged_perceptron_tagger to\n",
      "[nltk_data]     C:\\Users\\HP\\AppData\\Roaming\\nltk_data...\n",
      "[nltk_data]   Unzipping taggers\\averaged_perceptron_tagger.zip.\n",
      "[nltk_data] Downloading package punkt to\n",
      "[nltk_data]     C:\\Users\\HP\\AppData\\Roaming\\nltk_data...\n",
      "[nltk_data]   Unzipping tokenizers\\punkt.zip.\n",
      "[nltk_data] Downloading package stopwords to\n",
      "[nltk_data]     C:\\Users\\HP\\AppData\\Roaming\\nltk_data...\n",
      "[nltk_data]   Unzipping corpora\\stopwords.zip.\n",
      "[nltk_data] Downloading package wordnet to\n",
      "[nltk_data]     C:\\Users\\HP\\AppData\\Roaming\\nltk_data...\n"
     ]
    }
   ],
   "source": [
    "# create the chatbot\n",
    "bot = ChatBot(name = 'PyBot', read_only = True, logic_adaptors = ['chatterbot.logic.MathematicalEvaluation','chatterbot.logic.BestMatch'])"
   ]
  },
  {
   "cell_type": "code",
   "execution_count": 10,
   "id": "374277bf-f7b7-4a4c-a265-641e6bb70c5e",
   "metadata": {},
   "outputs": [
    {
     "name": "stdout",
     "output_type": "stream",
     "text": [
      "Training ai.yml: [####################] 100%\n",
      "Training botprofile.yml: [####################] 100%\n",
      "Training computers.yml: [####################] 100%\n",
      "Training conversations.yml: [####################] 100%\n",
      "Training emotion.yml: [####################] 100%\n",
      "Training food.yml: [####################] 100%\n",
      "Training gossip.yml: [####################] 100%\n",
      "Training greetings.yml: [####################] 100%\n",
      "Training health.yml: [####################] 100%\n",
      "Training history.yml: [####################] 100%\n",
      "Training humor.yml: [####################] 100%\n",
      "Training literature.yml: [####################] 100%\n",
      "Training money.yml: [####################] 100%\n",
      "Training movies.yml: [####################] 100%\n",
      "Training politics.yml: [####################] 100%\n",
      "Training psychology.yml: [####################] 100%\n",
      "Training science.yml: [####################] 100%\n",
      "Training sports.yml: [####################] 100%\n",
      "Training trivia.yml: [####################] 100%\n"
     ]
    }
   ],
   "source": [
    "# train the chatbot using the standard English corpus\n",
    "trainer = ChatterBotCorpusTrainer(bot)\n",
    "trainer.train('chatterbot.corpus.english')"
   ]
  },
  {
   "cell_type": "markdown",
   "id": "dedb9b89-e61a-405a-964e-cb82d900f78f",
   "metadata": {},
   "source": [
    "With the chatbot built now, I write a chat function When this is triggered, Charlie will act as a chatbot, listening for your lines and saying his own lines."
   ]
  },
  {
   "cell_type": "code",
   "execution_count": 14,
   "id": "24c03e43-69a3-44dc-9b83-1795e54a77a1",
   "metadata": {},
   "outputs": [],
   "source": [
    "def chat():\n",
    "    reply = 'Sure. What do you want to talk about?'\n",
    "    engine.say(reply)\n",
    "    engine.runAndWait()\n",
    "    \n",
    "    while True:\n",
    "        try:\n",
    "            with sr.Microphone() as source:\n",
    "                voice = listener.listen(source,timeout=6,phrase_time_limit=6)\n",
    "                _input = listener.recognize_google(voice)\n",
    "                _input = _input.lower()\n",
    "                if 'that\\'s enough' in _input:\n",
    "                    engine.say('thank you for the chat')\n",
    "                    engine.runAndWait()\n",
    "                    break\n",
    "                print(_input)\n",
    "                reply = bot.get_response(_input)\n",
    "                engine.say(reply)\n",
    "                engine.runAndWait()\n",
    "\n",
    "        except:\n",
    "            pass"
   ]
  },
  {
   "cell_type": "markdown",
   "id": "87923a8e-c5de-422f-97ef-b33fda34abcc",
   "metadata": {},
   "source": [
    "I also create a search function that will enable Charlie to search Google."
   ]
  },
  {
   "cell_type": "code",
   "execution_count": 15,
   "id": "7cc77159-6356-481e-a52a-68b4816ef72f",
   "metadata": {},
   "outputs": [],
   "source": [
    "def search_google(question):\n",
    "    question = question.strip().replace(' ','+')\n",
    "    url = 'https://www.google.com/search?q=' + question\n",
    "    request = urllib.request.Request(url)\n",
    "    request.add_header('User-Agent', 'Mozilla/5.0 (Macintosh; Intel Mac OS X 10_15_6) AppleWebKit/537.36 (KHTML, like Gecko) Chrome/87.0.4280.88 Safari/537.36')\n",
    "    raw_response = urllib.request.urlopen(request).read()\n",
    "    html = raw_response.decode(\"utf-8\")\n",
    "    soup = BeautifulSoup(html, 'html.parser')\n",
    "    divs = soup.select(\"#search div.g\")\n",
    "    \n",
    "    # get the top answer (the web summary)\n",
    "    answer = divs[0].get_text()[29:]\n",
    "                    \n",
    "    #remove urls and clean up answer\n",
    "    answer = re.sub(r'http\\S+', '', answer)\n",
    "    answer = answer.split('›')\n",
    "    answer = answer[np.argmax([len(ans) for ans in answer])]\n",
    "    \n",
    "    return answer"
   ]
  },
  {
   "cell_type": "markdown",
   "id": "aa291a4b-1eda-4dba-b816-06c1276c5fe1",
   "metadata": {},
   "source": [
    "Finally, I create the engine using the text to speech module and write a loop that will keep listening for commands until the users tells Charlie \"good-bye\". In the loop, Charlie can play songs, movies, open the chatbot, search wikipedia for information, tell the time, search google and summarize the top result, and respond to some preset lines (e.g., \"Thank you\")."
   ]
  },
  {
   "cell_type": "code",
   "execution_count": null,
   "id": "2f4e29fb-1674-4942-9fec-c3037afd3288",
   "metadata": {},
   "outputs": [],
   "source": [
    "listener = sr.Recognizer()\n",
    "engine = pyttsx3.init()\n",
    "engine.say(' I am charlie. What can I do for you?')\n",
    "engine.runAndWait()\n",
    "\n",
    "while True:\n",
    "    try:\n",
    "        with sr.Microphone() as source:\n",
    "            print('Listening...')\n",
    "            #sr.adjust_for_ambient_noise(source)\n",
    "            voice = listener.listen(source,timeout=6,phrase_time_limit=6)\n",
    "            command = listener.recognize_google(voice)\n",
    "            command = command.lower()\n",
    "            if 'charlie' in command:\n",
    "                command = command.replace('charlie', '')\n",
    "                print(command)\n",
    "                if 'play' in command:\n",
    "                    song = command.replace('play', '')\n",
    "                    engine.say('playing' + song)\n",
    "                    engine.runAndWait()\n",
    "                    pywhatkit.playonyt(song)\n",
    "                    print(song)\n",
    "                elif 'i want to watch' in command:\n",
    "                    movie = command.replace('i want to watch', '')\n",
    "                    engine.say('Playing' + movie)\n",
    "                    engine.runAndWait()\n",
    "                    movie = movie.strip()\n",
    "                    movie = movie.replace(' ', '-')\n",
    "                    webbrowser.open('https://membed.net/videos/' + movie)\n",
    "                elif 'let\\'s chat' in command:\n",
    "                    chat()    \n",
    "                elif 'tell me about' in command:\n",
    "                    thing = command.replace('tell me about', '')\n",
    "                    info = wikipedia.summary(thing, 2)\n",
    "                    print(info)\n",
    "                    engine.say(info)\n",
    "                    engine.runAndWait()\n",
    "                elif 'time' in command:\n",
    "                    time = datetime.datetime.now().strftime('%I: %M')\n",
    "                    if time[0] == 0:\n",
    "                        time = time[1:]\n",
    "                    print(time)\n",
    "                    engine.say(time)\n",
    "                    engine.runAndWait()\n",
    "                elif (\n",
    "                    command.strip()[0:2] == 'is' \n",
    "                    or command.strip()[0:3] == 'are' \n",
    "                    or command.strip()[0:3] == 'how' \n",
    "                    or command.strip()[0:4] == 'what' \n",
    "                    or command.strip()[0:3] == 'why' \n",
    "                    or command.strip()[0:3] == 'who'\n",
    "                ):\n",
    "                    question = command.strip().replace(' ','+')\n",
    "                    answer = search_google(question)\n",
    "                    webbrowser.open('https://www.google.com/search?q=' + question)\n",
    "                    engine.say(answer)\n",
    "                    engine.runAndWait()  \n",
    "                    \n",
    "                elif 'search for' in command:\n",
    "                    item = command.replace('search for', '')\n",
    "                    item = item.replace(' ','+')\n",
    "                    webbrowser.open('https://www.google.com/search?q=' + item)\n",
    "                elif 'who are you' in command:\n",
    "                    engine.say('I am your personal Assistant Charlie')\n",
    "                    engine.runAndWait()\n",
    "                elif 'what can you do for me' in command:\n",
    "                    engine.say('I can play songs and movies and search for information online.')\n",
    "                    engine.runAndWait()\n",
    "                elif 'thank you' in command:\n",
    "                    engine.say('You are welcome')\n",
    "                    engine.runAndWait()\n",
    "                elif 'goodbye' in command:\n",
    "                    engine.say('Goodbye')\n",
    "                    engine.runAndWait()\n",
    "                    break\n",
    "                else:\n",
    "                    engine.say('I did not understand, please say it again')      \n",
    "                    engine.runAndWait()\n",
    "\n",
    "    except:\n",
    "        pass"
   ]
  }
 ],
 "metadata": {
  "kernelspec": {
   "display_name": "Python 3 (ipykernel)",
   "language": "python",
   "name": "python3"
  },
  "language_info": {
   "codemirror_mode": {
    "name": "ipython",
    "version": 3
   },
   "file_extension": ".py",
   "mimetype": "text/x-python",
   "name": "python",
   "nbconvert_exporter": "python",
   "pygments_lexer": "ipython3",
   "version": "3.9.12"
  }
 },
 "nbformat": 4,
 "nbformat_minor": 5
}
